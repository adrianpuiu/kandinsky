{
  "nbformat": 4,
  "nbformat_minor": 0,
  "metadata": {
    "colab": {
      "provenance": [],
      "include_colab_link": true
    },
    "kernelspec": {
      "name": "python3",
      "display_name": "Python 3"
    },
    "language_info": {
      "name": "python"
    },
    "accelerator": "GPU",
    "gpuClass": "standard",
    "widgets": {
      "application/vnd.jupyter.widget-state+json": {
        "d092224aa6fd419a93af872127cf810f": {
          "model_module": "@jupyter-widgets/controls",
          "model_name": "HBoxModel",
          "model_module_version": "1.5.0",
          "state": {
            "_dom_classes": [],
            "_model_module": "@jupyter-widgets/controls",
            "_model_module_version": "1.5.0",
            "_model_name": "HBoxModel",
            "_view_count": null,
            "_view_module": "@jupyter-widgets/controls",
            "_view_module_version": "1.5.0",
            "_view_name": "HBoxView",
            "box_style": "",
            "children": [
              "IPY_MODEL_0531bc18de7d440c96057da4c368c0f6",
              "IPY_MODEL_944fa348bc96412e967fb135c7bbfc3c",
              "IPY_MODEL_8e14760e9f304a719a5b7efdba90b7c6"
            ],
            "layout": "IPY_MODEL_ec8c3ad85a1748e197bebacc9c3011a8"
          }
        },
        "0531bc18de7d440c96057da4c368c0f6": {
          "model_module": "@jupyter-widgets/controls",
          "model_name": "HTMLModel",
          "model_module_version": "1.5.0",
          "state": {
            "_dom_classes": [],
            "_model_module": "@jupyter-widgets/controls",
            "_model_module_version": "1.5.0",
            "_model_name": "HTMLModel",
            "_view_count": null,
            "_view_module": "@jupyter-widgets/controls",
            "_view_module_version": "1.5.0",
            "_view_name": "HTMLView",
            "description": "",
            "description_tooltip": null,
            "layout": "IPY_MODEL_548dc032235c4fb687c7f40dca176bcf",
            "placeholder": "​",
            "style": "IPY_MODEL_f7226d90717843ecb9537eb7c72f6716",
            "value": " 56%"
          }
        },
        "944fa348bc96412e967fb135c7bbfc3c": {
          "model_module": "@jupyter-widgets/controls",
          "model_name": "FloatProgressModel",
          "model_module_version": "1.5.0",
          "state": {
            "_dom_classes": [],
            "_model_module": "@jupyter-widgets/controls",
            "_model_module_version": "1.5.0",
            "_model_name": "FloatProgressModel",
            "_view_count": null,
            "_view_module": "@jupyter-widgets/controls",
            "_view_module_version": "1.5.0",
            "_view_name": "ProgressView",
            "bar_style": "",
            "description": "",
            "description_tooltip": null,
            "layout": "IPY_MODEL_84ee202d3398472e80a20adf4372970b",
            "max": 50,
            "min": 0,
            "orientation": "horizontal",
            "style": "IPY_MODEL_d1278e1c2eee490bbaea9c36d825d7ad",
            "value": 28
          }
        },
        "8e14760e9f304a719a5b7efdba90b7c6": {
          "model_module": "@jupyter-widgets/controls",
          "model_name": "HTMLModel",
          "model_module_version": "1.5.0",
          "state": {
            "_dom_classes": [],
            "_model_module": "@jupyter-widgets/controls",
            "_model_module_version": "1.5.0",
            "_model_name": "HTMLModel",
            "_view_count": null,
            "_view_module": "@jupyter-widgets/controls",
            "_view_module_version": "1.5.0",
            "_view_name": "HTMLView",
            "description": "",
            "description_tooltip": null,
            "layout": "IPY_MODEL_e765fe4184ff4479b7fc0e6db21b246b",
            "placeholder": "​",
            "style": "IPY_MODEL_6c1dd1a2da334a86a14e3ddfb5105b50",
            "value": " 28/50 [01:25&lt;01:06,  3.03s/it]"
          }
        },
        "ec8c3ad85a1748e197bebacc9c3011a8": {
          "model_module": "@jupyter-widgets/base",
          "model_name": "LayoutModel",
          "model_module_version": "1.2.0",
          "state": {
            "_model_module": "@jupyter-widgets/base",
            "_model_module_version": "1.2.0",
            "_model_name": "LayoutModel",
            "_view_count": null,
            "_view_module": "@jupyter-widgets/base",
            "_view_module_version": "1.2.0",
            "_view_name": "LayoutView",
            "align_content": null,
            "align_items": null,
            "align_self": null,
            "border": null,
            "bottom": null,
            "display": null,
            "flex": null,
            "flex_flow": null,
            "grid_area": null,
            "grid_auto_columns": null,
            "grid_auto_flow": null,
            "grid_auto_rows": null,
            "grid_column": null,
            "grid_gap": null,
            "grid_row": null,
            "grid_template_areas": null,
            "grid_template_columns": null,
            "grid_template_rows": null,
            "height": null,
            "justify_content": null,
            "justify_items": null,
            "left": null,
            "margin": null,
            "max_height": null,
            "max_width": null,
            "min_height": null,
            "min_width": null,
            "object_fit": null,
            "object_position": null,
            "order": null,
            "overflow": null,
            "overflow_x": null,
            "overflow_y": null,
            "padding": null,
            "right": null,
            "top": null,
            "visibility": null,
            "width": null
          }
        },
        "548dc032235c4fb687c7f40dca176bcf": {
          "model_module": "@jupyter-widgets/base",
          "model_name": "LayoutModel",
          "model_module_version": "1.2.0",
          "state": {
            "_model_module": "@jupyter-widgets/base",
            "_model_module_version": "1.2.0",
            "_model_name": "LayoutModel",
            "_view_count": null,
            "_view_module": "@jupyter-widgets/base",
            "_view_module_version": "1.2.0",
            "_view_name": "LayoutView",
            "align_content": null,
            "align_items": null,
            "align_self": null,
            "border": null,
            "bottom": null,
            "display": null,
            "flex": null,
            "flex_flow": null,
            "grid_area": null,
            "grid_auto_columns": null,
            "grid_auto_flow": null,
            "grid_auto_rows": null,
            "grid_column": null,
            "grid_gap": null,
            "grid_row": null,
            "grid_template_areas": null,
            "grid_template_columns": null,
            "grid_template_rows": null,
            "height": null,
            "justify_content": null,
            "justify_items": null,
            "left": null,
            "margin": null,
            "max_height": null,
            "max_width": null,
            "min_height": null,
            "min_width": null,
            "object_fit": null,
            "object_position": null,
            "order": null,
            "overflow": null,
            "overflow_x": null,
            "overflow_y": null,
            "padding": null,
            "right": null,
            "top": null,
            "visibility": null,
            "width": null
          }
        },
        "f7226d90717843ecb9537eb7c72f6716": {
          "model_module": "@jupyter-widgets/controls",
          "model_name": "DescriptionStyleModel",
          "model_module_version": "1.5.0",
          "state": {
            "_model_module": "@jupyter-widgets/controls",
            "_model_module_version": "1.5.0",
            "_model_name": "DescriptionStyleModel",
            "_view_count": null,
            "_view_module": "@jupyter-widgets/base",
            "_view_module_version": "1.2.0",
            "_view_name": "StyleView",
            "description_width": ""
          }
        },
        "84ee202d3398472e80a20adf4372970b": {
          "model_module": "@jupyter-widgets/base",
          "model_name": "LayoutModel",
          "model_module_version": "1.2.0",
          "state": {
            "_model_module": "@jupyter-widgets/base",
            "_model_module_version": "1.2.0",
            "_model_name": "LayoutModel",
            "_view_count": null,
            "_view_module": "@jupyter-widgets/base",
            "_view_module_version": "1.2.0",
            "_view_name": "LayoutView",
            "align_content": null,
            "align_items": null,
            "align_self": null,
            "border": null,
            "bottom": null,
            "display": null,
            "flex": null,
            "flex_flow": null,
            "grid_area": null,
            "grid_auto_columns": null,
            "grid_auto_flow": null,
            "grid_auto_rows": null,
            "grid_column": null,
            "grid_gap": null,
            "grid_row": null,
            "grid_template_areas": null,
            "grid_template_columns": null,
            "grid_template_rows": null,
            "height": null,
            "justify_content": null,
            "justify_items": null,
            "left": null,
            "margin": null,
            "max_height": null,
            "max_width": null,
            "min_height": null,
            "min_width": null,
            "object_fit": null,
            "object_position": null,
            "order": null,
            "overflow": null,
            "overflow_x": null,
            "overflow_y": null,
            "padding": null,
            "right": null,
            "top": null,
            "visibility": null,
            "width": null
          }
        },
        "d1278e1c2eee490bbaea9c36d825d7ad": {
          "model_module": "@jupyter-widgets/controls",
          "model_name": "ProgressStyleModel",
          "model_module_version": "1.5.0",
          "state": {
            "_model_module": "@jupyter-widgets/controls",
            "_model_module_version": "1.5.0",
            "_model_name": "ProgressStyleModel",
            "_view_count": null,
            "_view_module": "@jupyter-widgets/base",
            "_view_module_version": "1.2.0",
            "_view_name": "StyleView",
            "bar_color": null,
            "description_width": ""
          }
        },
        "e765fe4184ff4479b7fc0e6db21b246b": {
          "model_module": "@jupyter-widgets/base",
          "model_name": "LayoutModel",
          "model_module_version": "1.2.0",
          "state": {
            "_model_module": "@jupyter-widgets/base",
            "_model_module_version": "1.2.0",
            "_model_name": "LayoutModel",
            "_view_count": null,
            "_view_module": "@jupyter-widgets/base",
            "_view_module_version": "1.2.0",
            "_view_name": "LayoutView",
            "align_content": null,
            "align_items": null,
            "align_self": null,
            "border": null,
            "bottom": null,
            "display": null,
            "flex": null,
            "flex_flow": null,
            "grid_area": null,
            "grid_auto_columns": null,
            "grid_auto_flow": null,
            "grid_auto_rows": null,
            "grid_column": null,
            "grid_gap": null,
            "grid_row": null,
            "grid_template_areas": null,
            "grid_template_columns": null,
            "grid_template_rows": null,
            "height": null,
            "justify_content": null,
            "justify_items": null,
            "left": null,
            "margin": null,
            "max_height": null,
            "max_width": null,
            "min_height": null,
            "min_width": null,
            "object_fit": null,
            "object_position": null,
            "order": null,
            "overflow": null,
            "overflow_x": null,
            "overflow_y": null,
            "padding": null,
            "right": null,
            "top": null,
            "visibility": null,
            "width": null
          }
        },
        "6c1dd1a2da334a86a14e3ddfb5105b50": {
          "model_module": "@jupyter-widgets/controls",
          "model_name": "DescriptionStyleModel",
          "model_module_version": "1.5.0",
          "state": {
            "_model_module": "@jupyter-widgets/controls",
            "_model_module_version": "1.5.0",
            "_model_name": "DescriptionStyleModel",
            "_view_count": null,
            "_view_module": "@jupyter-widgets/base",
            "_view_module_version": "1.2.0",
            "_view_name": "StyleView",
            "description_width": ""
          }
        }
      }
    }
  },
  "cells": [
    {
      "cell_type": "markdown",
      "metadata": {
        "id": "view-in-github",
        "colab_type": "text"
      },
      "source": [
        "<a href=\"https://colab.research.google.com/github/adrianpuiu/kandinsky/blob/main/Kandinsky_2_1_textual%20inversion%20inference_Batching_in_Google_Drive_%2B_Dynamic_Prompting_%2B_Symmetry_Option.ipynb\" target=\"_parent\"><img src=\"https://colab.research.google.com/assets/colab-badge.svg\" alt=\"Open In Colab\"/></a>"
      ]
    },
    {
      "cell_type": "code",
      "source": [
        "#@title Check GPU\n",
        "!nvidia-smi -L"
      ],
      "metadata": {
        "colab": {
          "base_uri": "https://localhost:8080/"
        },
        "id": "B6Jitu93rDLt",
        "outputId": "b8310bcb-a41f-4422-edb0-aac4d1cd150c"
      },
      "execution_count": 1,
      "outputs": [
        {
          "output_type": "stream",
          "name": "stdout",
          "text": [
            "GPU 0: Tesla T4 (UUID: GPU-b7c8d2fa-ce47-b694-4779-0e47551a3832)\n"
          ]
        }
      ]
    },
    {
      "cell_type": "code",
      "source": [
        "#@title Mount Google Drive\n",
        "from google.colab import drive\n",
        "\n",
        "drive.mount('/content/drive')"
      ],
      "metadata": {
        "id": "vi4G4SQkqlN3",
        "colab": {
          "base_uri": "https://localhost:8080/"
        },
        "outputId": "d07bad62-e07d-41a4-aac3-9b364415cbca"
      },
      "execution_count": 1,
      "outputs": [
        {
          "output_type": "stream",
          "name": "stdout",
          "text": [
            "Drive already mounted at /content/drive; to attempt to forcibly remount, call drive.mount(\"/content/drive\", force_remount=True).\n"
          ]
        }
      ]
    },
    {
      "cell_type": "code",
      "source": [
        "#@title Installation\n",
        "!pip install 'git+https://github.com/ai-forever/Kandinsky-2.git'\n",
        "!pip install git+https://github.com/openai/CLIP.git\n",
        "\n",
        "from kandinsky2 import get_kandinsky2"
      ],
      "metadata": {
        "id": "d6yFxaO2N2kp"
      },
      "execution_count": null,
      "outputs": []
    },
    {
      "cell_type": "code",
      "source": [
        "#@title Downloads\n",
        "model = get_kandinsky2('cuda', task_type='text2img', cache_dir='/content/drive/MyDrive/tmp', model_version='2.1', use_flash_attention=False)"
      ],
      "metadata": {
        "id": "2aGQXx1SN0Kc",
        "colab": {
          "base_uri": "https://localhost:8080/",
          "height": 86
        },
        "outputId": "395b74cd-ed84-42af-c90d-447f8e288fb2"
      },
      "execution_count": null,
      "outputs": [
        {
          "output_type": "stream",
          "name": "stdout",
          "text": [
            "making attention of type 'vanilla' with 512 in_channels\n",
            "making attention of type 'vanilla' with 512 in_channels\n",
            "making attention of type 'vanilla' with 512 in_channels\n",
            "Working with z of shape (1, 4, 32, 32) = 4096 dimensions.\n"
          ]
        }
      ]
    },
    {
      "cell_type": "code",
      "source": [
        "import os\n",
        "os.environ['CUDA_VISIBLE_DEVICES'] = '0'\n",
        "from copy import deepcopy\n",
        "\n",
        "import torch\n",
        "import torch.nn as nn\n",
        "from matplotlib import pyplot as plt\n",
        "\n",
        "from kandinsky2 import get_kandinsky2"
      ],
      "metadata": {
        "id": "CdXVbpvIt6QZ"
      },
      "execution_count": 3,
      "outputs": []
    },
    {
      "cell_type": "code",
      "source": [
        "def show_image(image, figsize=(5, 5), cmap=None, title='', xlabel=None, ylabel=None, axis=False):\n",
        "    plt.figure(figsize=figsize)\n",
        "    plt.imshow(image, cmap=cmap)\n",
        "    plt.title(title)\n",
        "    plt.xlabel(xlabel)\n",
        "    plt.ylabel(ylabel)\n",
        "    plt.axis(axis)\n",
        "    plt.show();\n",
        "\n",
        "def show_images(images, n_rows=1, title='', figsize=(5, 5), cmap=None, xlabel=None, ylabel=None, axis=False):\n",
        "    n_cols = len(images) // n_rows\n",
        "    if n_rows == n_cols == 1:\n",
        "        show_image(images[0], title=title, figsize=figsize, cmap=cmap, xlabel=xlabel, ylabel=ylabel, axis=axis)\n",
        "    else:\n",
        "        fig, axes = plt.subplots(n_rows, n_cols, figsize=figsize)\n",
        "        fig.tight_layout(pad=0.0)\n",
        "        axes = axes.flatten()\n",
        "        for ax, img in zip(axes, images):\n",
        "            ax.imshow(img, cmap=cmap)\n",
        "            ax.set_title(title)\n",
        "            ax.set_xlabel(xlabel)\n",
        "            ax.set_ylabel(ylabel)\n",
        "            ax.axis(axis)\n",
        "        plt.show();\n",
        "        \n",
        "def add_new_embeds(model, placeholder_token, embeds_path):\n",
        "    learned_token = torch.load(embeds_path)\n",
        "\n",
        "    num_added_tokens = model.tokenizer1.add_tokens(placeholder_token)\n",
        "    placeholder_token_id = model.tokenizer1.convert_tokens_to_ids(placeholder_token)\n",
        "\n",
        "    model.text_encoder.model.transformer.resize_token_embeddings(len(model.tokenizer1))\n",
        "    model.text_encoder.model.transformer.get_input_embeddings().weight.data[placeholder_token_id] = learned_token['t1'][placeholder_token]\n",
        "      \n",
        "    t2p_index_to_add = len(model.tokenizer2.encoder)\n",
        "    model.tokenizer2.encoder[placeholder_token] = t2p_index_to_add\n",
        "    model.tokenizer2.decoder[t2p_index_to_add] = placeholder_token\n",
        "    model.tokenizer2.cache[placeholder_token] = placeholder_token\n",
        "\n",
        "    t2p_tok = model.tokenizer2.encode(placeholder_token)\n",
        "    t2p_str = model.tokenizer2.decode(t2p_tok)\n",
        "    \n",
        "    old_vocab_size, t2_embed_dize = model.clip_model.token_embedding.weight.shape\n",
        "\n",
        "    new_embed = nn.Embedding(old_vocab_size + 1, t2_embed_dize).to(device)\n",
        "    new_embed.weight.data[:old_vocab_size, :] = model.clip_model.token_embedding.weight.data.clone()\n",
        "    new_embed.weight.data[t2p_tok[0], :] = learned_token['t2'][placeholder_token]\n",
        "\n",
        "    model.clip_model.token_embedding = deepcopy(new_embed)\n",
        "    \n",
        "    return model"
      ],
      "metadata": {
        "id": "YRowVU2ruBv3"
      },
      "execution_count": 4,
      "outputs": []
    },
    {
      "cell_type": "code",
      "source": [
        "device='cuda'\n",
        "cache_dir='/content/drive/MyDrive/tmp'\n",
        "task_type = 'text2img'\n",
        "model = get_kandinsky2(\n",
        "    device=device, \n",
        "    task_type=task_type, \n",
        "    model_version='2.1', \n",
        "    cache_dir=cache_dir, \n",
        "    use_flash_attention=False);\n",
        "placeholder_token = 'sks' # your word here\n",
        "embeds_path = '/content/drive/MyDrive/finetune/output/sks/learned_embeds.bin' # your path to embedding here \n",
        "\n",
        "model = add_new_embeds(model, placeholder_token, embeds_path)"
      ],
      "metadata": {
        "colab": {
          "base_uri": "https://localhost:8080/"
        },
        "id": "g_OyN36CuGo2",
        "outputId": "e6f1a91b-1276-48f0-edff-b10d7017d3e2"
      },
      "execution_count": 9,
      "outputs": [
        {
          "output_type": "stream",
          "name": "stderr",
          "text": [
            "/usr/local/lib/python3.9/dist-packages/huggingface_hub/file_download.py:649: FutureWarning: 'cached_download' is the legacy way to download files from the HF hub, please consider upgrading to 'hf_hub_download'\n",
            "  warnings.warn(\n"
          ]
        },
        {
          "output_type": "stream",
          "name": "stdout",
          "text": [
            "making attention of type 'vanilla' with 512 in_channels\n",
            "making attention of type 'vanilla' with 512 in_channels\n",
            "making attention of type 'vanilla' with 512 in_channels\n",
            "Working with z of shape (1, 4, 32, 32) = 4096 dimensions.\n"
          ]
        }
      ]
    },
    {
      "cell_type": "code",
      "source": [
        "#@title Settings & Prompt \n",
        "batch_name = \"Batch\" #@param {type:\"string\"}\n",
        "width_height = [1280, 540] #@param {type: 'raw'}\n",
        "#@markdown - Dynamic Prompting: \"a glass of { wine | beer | milk }\" will randomly choose one of these words for each image:\n",
        "text_prompt = \" a masterpiece painting in the style of sks having extreme details and a perfect composition and very well lit scene\" #@param {type:\"string\"}\n",
        "num_steps = 50 #@param {type:\"integer\"}\n",
        "batch_size = 2 #@param {type:\"integer\"}\n",
        "guidance_scale = 1 #@param {type:\"number\"}\n",
        "sampler = 'p_sampler' #@param {type:\"string\"}\n",
        "prior_cf_scale = 4 #@param {type:\"number\"}\n",
        "prior_steps = \"5\" #@param {type:\"string\"}\n",
        "\n",
        "w, h = width_height"
      ],
      "metadata": {
        "id": "9N7mnn4cqutM"
      },
      "execution_count": 40,
      "outputs": []
    },
    {
      "cell_type": "code",
      "source": [
        "prompt = f'''a masterpiece painting in the style of {placeholder_token} having extreme details and a perfect composition and very well lit scene.  '''\n",
        "\n",
        "for _ in range(2):\n",
        "    images = model.generate_text2img(\n",
        "        prompt,\n",
        "        num_steps=50, \n",
        "        batch_size=4, \n",
        "        guidance_scale=7.5,\n",
        "        h=768, \n",
        "        w=768,\n",
        "        sampler='p_sampler', \n",
        "        prior_cf_scale=2,\n",
        "        prior_steps='4',\n",
        "    )\n",
        "\n",
        "    show_images(images, n_rows=2, figsize=(15, 15))"
      ],
      "metadata": {
        "id": "zeQyVo1m8Sxm",
        "outputId": "2bc02065-3276-476d-ffa9-3807294601aa",
        "colab": {
          "base_uri": "https://localhost:8080/",
          "height": 49,
          "referenced_widgets": [
            "d092224aa6fd419a93af872127cf810f",
            "0531bc18de7d440c96057da4c368c0f6",
            "944fa348bc96412e967fb135c7bbfc3c",
            "8e14760e9f304a719a5b7efdba90b7c6",
            "ec8c3ad85a1748e197bebacc9c3011a8",
            "548dc032235c4fb687c7f40dca176bcf",
            "f7226d90717843ecb9537eb7c72f6716",
            "84ee202d3398472e80a20adf4372970b",
            "d1278e1c2eee490bbaea9c36d825d7ad",
            "e765fe4184ff4479b7fc0e6db21b246b",
            "6c1dd1a2da334a86a14e3ddfb5105b50"
          ]
        }
      },
      "execution_count": null,
      "outputs": [
        {
          "output_type": "display_data",
          "data": {
            "text/plain": [
              "  0%|          | 0/50 [00:00<?, ?it/s]"
            ],
            "application/vnd.jupyter.widget-view+json": {
              "version_major": 2,
              "version_minor": 0,
              "model_id": "d092224aa6fd419a93af872127cf810f"
            }
          },
          "metadata": {}
        }
      ]
    },
    {
      "cell_type": "code",
      "source": [
        "#@title Images Generation\n",
        "import os\n",
        "import random\n",
        "from PIL import Image\n",
        "from IPython.display import display, clear_output\n",
        "import time\n",
        "\n",
        "def generate_dynamic_prompt(prompt):\n",
        "    while \"{\" in prompt and \"}\" in prompt:\n",
        "        start = prompt.index(\"{\")\n",
        "        end = prompt.index(\"}\")\n",
        "        options_str = prompt[start + 1:end]\n",
        "        options = options_str.split(\"|\")\n",
        "        choice = random.choice(options).strip()\n",
        "        prompt = prompt[:start] + choice + prompt[end + 1:]\n",
        "    return prompt\n",
        "\n",
        "output_folder = f\"/content/drive/MyDrive/{batch_name}/\"\n",
        "os.makedirs(output_folder, exist_ok=True)\n",
        "\n",
        "num_images = batch_size  # The total number of images to generate\n",
        "\n",
        "for i in range(num_images):\n",
        "    dynamic_prompt = generate_dynamic_prompt(text_prompt)\n",
        "    print(f\"Generating image {i + 1} with prompt: {dynamic_prompt}\")  # Print the generated prompt\n",
        "    images = model.generate_text2img(dynamic_prompt, num_steps=num_steps,\n",
        "                                     batch_size=1, guidance_scale=guidance_scale,\n",
        "                                     h=h, w=w, sampler=sampler, prior_cf_scale=prior_cf_scale,\n",
        "                                     prior_steps=prior_steps)\n",
        "\n",
        "    # Save generated image to Google Drive\n",
        "    img_filename = f\"{dynamic_prompt.replace(',', '').replace(' ', '_')}_{i}.png\"\n",
        "    img_path = os.path.join(output_folder, img_filename)\n",
        "    \n",
        "    # The output is already a PIL Image\n",
        "    image = images[0]\n",
        "    image.save(img_path)\n",
        "\n",
        "    # Display image and clear output after every 10 images\n",
        "    display(image)\n",
        "    if (i + 1) % 10 == 0:\n",
        "        time.sleep(1)\n",
        "        clear_output(wait=True)\n",
        "\n",
        "    print(f\"Image {i + 1} saved to Google Drive at: {img_path}\")\n"
      ],
      "metadata": {
        "id": "EIeBrm7eq1yA"
      },
      "execution_count": null,
      "outputs": []
    },
    {
      "cell_type": "markdown",
      "source": [
        "# New section"
      ],
      "metadata": {
        "id": "JaTyEd1vw_zR"
      }
    }
  ]
}